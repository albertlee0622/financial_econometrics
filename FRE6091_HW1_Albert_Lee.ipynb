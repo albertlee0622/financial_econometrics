{
 "cells": [
  {
   "cell_type": "markdown",
   "metadata": {},
   "source": [
    "## FRE6091_HW1_Albert_Lee"
   ]
  },
  {
   "cell_type": "code",
   "execution_count": 1,
   "metadata": {},
   "outputs": [],
   "source": [
    "from pandas_datareader import data as pdr\n",
    "import yfinance as yf; yf.pdr_override()\n",
    "import matplotlib.pyplot as plt \n",
    "import numpy as np"
   ]
  },
  {
   "cell_type": "markdown",
   "metadata": {},
   "source": [
    "**AAPL from 2019-02-05 to 2020-1-31**"
   ]
  },
  {
   "cell_type": "code",
   "execution_count": 2,
   "metadata": {},
   "outputs": [
    {
     "name": "stdout",
     "output_type": "stream",
     "text": [
      "[*********************100%***********************]  1 of 1 completed\n",
      "(250, 6)\n",
      "                  Open        High         Low       Close   Adj Close  \\\n",
      "Date                                                                     \n",
      "2019-02-05  172.860001  175.080002  172.350006  174.179993  171.195389   \n",
      "2019-02-06  174.649994  175.570007  172.850006  174.240005  171.254364   \n",
      "2019-02-07  172.399994  173.940002  170.339996  170.940002  168.010910   \n",
      "2019-02-08  168.990005  170.660004  168.419998  170.410004  168.208328   \n",
      "2019-02-11  171.050003  171.210007  169.250000  169.429993  167.240967   \n",
      "\n",
      "              Volume  \n",
      "Date                  \n",
      "2019-02-05  36101600  \n",
      "2019-02-06  28239600  \n",
      "2019-02-07  31741700  \n",
      "2019-02-08  23820000  \n",
      "2019-02-11  20993400  \n"
     ]
    }
   ],
   "source": [
    "data = pdr.get_data_yahoo(\"AAPL\", start=\"2019-02-05\", end=\"2020-1-31\")\n",
    "print(data.shape)\n",
    "print(data.head())"
   ]
  },
  {
   "cell_type": "markdown",
   "metadata": {},
   "source": [
    "#### a. Make a histogram of the price for the last 250 trading days. Does it look normal? What about change in price? What about percent change in price? Which looks the most normal?"
   ]
  },
  {
   "cell_type": "code",
   "execution_count": 3,
   "metadata": {},
   "outputs": [
    {
     "data": {
      "text/plain": [
       "Text(0.5, 1.0, 'Histogram for the price')"
      ]
     },
     "execution_count": 3,
     "metadata": {},
     "output_type": "execute_result"
    },
    {
     "data": {
      "image/png": "[encoded data removed]",
      "text/plain": [
       "<Figure size 432x288 with 1 Axes>"
      ]
     },
     "metadata": {
      "needs_background": "light"
     },
     "output_type": "display_data"
    }
   ],
   "source": [
    "plt.hist(data['Adj Close'])\n",
    "plt.title('Histogram for the price')"
   ]
  },
  {
   "cell_type": "code",
   "execution_count": 4,
   "metadata": {},
   "outputs": [
    {
     "data": {
      "text/html": [
       "<div>\n",
       "<style scoped>\n",
       "    .dataframe tbody tr th:only-of-type {\n",
       "        vertical-align: middle;\n",
       "    }\n",
       "\n",
       "    .dataframe tbody tr th {\n",
       "        vertical-align: top;\n",
       "    }\n",
       "\n",
       "    .dataframe thead th {\n",
       "        text-align: right;\n",
       "    }\n",
       "</style>\n",
       "<table border=\"1\" class=\"dataframe\">\n",
       "  <thead>\n",
       "    <tr style=\"text-align: right;\">\n",
       "      <th></th>\n",
       "      <th>Open</th>\n",
       "      <th>High</th>\n",
       "      <th>Low</th>\n",
       "      <th>Close</th>\n",
       "      <th>Adj Close</th>\n",
       "      <th>Volume</th>\n",
       "    </tr>\n",
       "    <tr>\n",
       "      <th>Date</th>\n",
       "      <th></th>\n",
       "      <th></th>\n",
       "      <th></th>\n",
       "      <th></th>\n",
       "      <th></th>\n",
       "      <th></th>\n",
       "    </tr>\n",
       "  </thead>\n",
       "  <tbody>\n",
       "    <tr>\n",
       "      <th>2019-02-05</th>\n",
       "      <td>NaN</td>\n",
       "      <td>NaN</td>\n",
       "      <td>NaN</td>\n",
       "      <td>NaN</td>\n",
       "      <td>NaN</td>\n",
       "      <td>NaN</td>\n",
       "    </tr>\n",
       "    <tr>\n",
       "      <th>2019-02-06</th>\n",
       "      <td>1.789993</td>\n",
       "      <td>0.490005</td>\n",
       "      <td>0.500000</td>\n",
       "      <td>0.060013</td>\n",
       "      <td>0.058975</td>\n",
       "      <td>-7862000.0</td>\n",
       "    </tr>\n",
       "    <tr>\n",
       "      <th>2019-02-07</th>\n",
       "      <td>-2.250000</td>\n",
       "      <td>-1.630005</td>\n",
       "      <td>-2.510010</td>\n",
       "      <td>-3.300003</td>\n",
       "      <td>-3.243454</td>\n",
       "      <td>3502100.0</td>\n",
       "    </tr>\n",
       "    <tr>\n",
       "      <th>2019-02-08</th>\n",
       "      <td>-3.409988</td>\n",
       "      <td>-3.279999</td>\n",
       "      <td>-1.919998</td>\n",
       "      <td>-0.529999</td>\n",
       "      <td>0.197418</td>\n",
       "      <td>-7921700.0</td>\n",
       "    </tr>\n",
       "    <tr>\n",
       "      <th>2019-02-11</th>\n",
       "      <td>2.059998</td>\n",
       "      <td>0.550003</td>\n",
       "      <td>0.830002</td>\n",
       "      <td>-0.980011</td>\n",
       "      <td>-0.967361</td>\n",
       "      <td>-2826600.0</td>\n",
       "    </tr>\n",
       "  </tbody>\n",
       "</table>\n",
       "</div>"
      ],
      "text/plain": [
       "                Open      High       Low     Close  Adj Close     Volume\n",
       "Date                                                                    \n",
       "2019-02-05       NaN       NaN       NaN       NaN        NaN        NaN\n",
       "2019-02-06  1.789993  0.490005  0.500000  0.060013   0.058975 -7862000.0\n",
       "2019-02-07 -2.250000 -1.630005 -2.510010 -3.300003  -3.243454  3502100.0\n",
       "2019-02-08 -3.409988 -3.279999 -1.919998 -0.529999   0.197418 -7921700.0\n",
       "2019-02-11  2.059998  0.550003  0.830002 -0.980011  -0.967361 -2826600.0"
      ]
     },
     "execution_count": 4,
     "metadata": {},
     "output_type": "execute_result"
    }
   ],
   "source": [
    "df_price_chg = data.diff(periods=1, axis=0)\n",
    "df_price_chg.head()"
   ]
  },
  {
   "cell_type": "code",
   "execution_count": 5,
   "metadata": {},
   "outputs": [
    {
     "name": "stderr",
     "output_type": "stream",
     "text": [
      "C:\\Users\\alee8\\Anaconda3\\lib\\site-packages\\numpy\\lib\\histograms.py:824: RuntimeWarning: invalid value encountered in greater_equal\n",
      "  keep = (tmp_a >= first_edge)\n",
      "C:\\Users\\alee8\\Anaconda3\\lib\\site-packages\\numpy\\lib\\histograms.py:825: RuntimeWarning: invalid value encountered in less_equal\n",
      "  keep &= (tmp_a <= last_edge)\n"
     ]
    },
    {
     "data": {
      "text/plain": [
       "Text(0.5, 1.0, 'Histogram for the change in price ($)')"
      ]
     },
     "execution_count": 5,
     "metadata": {},
     "output_type": "execute_result"
    },
    {
     "data": {
      "image/png": "[encoded data removed]",
      "text/plain": [
       "<Figure size 432x288 with 1 Axes>"
      ]
     },
     "metadata": {
      "needs_background": "light"
     },
     "output_type": "display_data"
    }
   ],
   "source": [
    "plt.hist(df_price_chg['Adj Close'])\n",
    "plt.title('Histogram for the change in price ($)')"
   ]
  },
  {
   "cell_type": "code",
   "execution_count": 6,
   "metadata": {},
   "outputs": [
    {
     "data": {
      "text/html": [
       "<div>\n",
       "<style scoped>\n",
       "    .dataframe tbody tr th:only-of-type {\n",
       "        vertical-align: middle;\n",
       "    }\n",
       "\n",
       "    .dataframe tbody tr th {\n",
       "        vertical-align: top;\n",
       "    }\n",
       "\n",
       "    .dataframe thead th {\n",
       "        text-align: right;\n",
       "    }\n",
       "</style>\n",
       "<table border=\"1\" class=\"dataframe\">\n",
       "  <thead>\n",
       "    <tr style=\"text-align: right;\">\n",
       "      <th></th>\n",
       "      <th>Open</th>\n",
       "      <th>High</th>\n",
       "      <th>Low</th>\n",
       "      <th>Close</th>\n",
       "      <th>Adj Close</th>\n",
       "      <th>Volume</th>\n",
       "    </tr>\n",
       "    <tr>\n",
       "      <th>Date</th>\n",
       "      <th></th>\n",
       "      <th></th>\n",
       "      <th></th>\n",
       "      <th></th>\n",
       "      <th></th>\n",
       "      <th></th>\n",
       "    </tr>\n",
       "  </thead>\n",
       "  <tbody>\n",
       "    <tr>\n",
       "      <th>2019-02-05</th>\n",
       "      <td>NaN</td>\n",
       "      <td>NaN</td>\n",
       "      <td>NaN</td>\n",
       "      <td>NaN</td>\n",
       "      <td>NaN</td>\n",
       "      <td>NaN</td>\n",
       "    </tr>\n",
       "    <tr>\n",
       "      <th>2019-02-06</th>\n",
       "      <td>0.010355</td>\n",
       "      <td>0.002799</td>\n",
       "      <td>0.002901</td>\n",
       "      <td>0.000345</td>\n",
       "      <td>0.000344</td>\n",
       "      <td>-0.217774</td>\n",
       "    </tr>\n",
       "    <tr>\n",
       "      <th>2019-02-07</th>\n",
       "      <td>-0.012883</td>\n",
       "      <td>-0.009284</td>\n",
       "      <td>-0.014521</td>\n",
       "      <td>-0.018939</td>\n",
       "      <td>-0.018939</td>\n",
       "      <td>0.124014</td>\n",
       "    </tr>\n",
       "    <tr>\n",
       "      <th>2019-02-08</th>\n",
       "      <td>-0.019780</td>\n",
       "      <td>-0.018857</td>\n",
       "      <td>-0.011272</td>\n",
       "      <td>-0.003100</td>\n",
       "      <td>0.001175</td>\n",
       "      <td>-0.249568</td>\n",
       "    </tr>\n",
       "    <tr>\n",
       "      <th>2019-02-11</th>\n",
       "      <td>0.012190</td>\n",
       "      <td>0.003223</td>\n",
       "      <td>0.004928</td>\n",
       "      <td>-0.005751</td>\n",
       "      <td>-0.005751</td>\n",
       "      <td>-0.118665</td>\n",
       "    </tr>\n",
       "  </tbody>\n",
       "</table>\n",
       "</div>"
      ],
      "text/plain": [
       "                Open      High       Low     Close  Adj Close    Volume\n",
       "Date                                                                   \n",
       "2019-02-05       NaN       NaN       NaN       NaN        NaN       NaN\n",
       "2019-02-06  0.010355  0.002799  0.002901  0.000345   0.000344 -0.217774\n",
       "2019-02-07 -0.012883 -0.009284 -0.014521 -0.018939  -0.018939  0.124014\n",
       "2019-02-08 -0.019780 -0.018857 -0.011272 -0.003100   0.001175 -0.249568\n",
       "2019-02-11  0.012190  0.003223  0.004928 -0.005751  -0.005751 -0.118665"
      ]
     },
     "execution_count": 6,
     "metadata": {},
     "output_type": "execute_result"
    }
   ],
   "source": [
    "df_price_pct_chg = data.pct_change(periods=1, axis=0)\n",
    "df_price_pct_chg.head()"
   ]
  },
  {
   "cell_type": "code",
   "execution_count": 7,
   "metadata": {},
   "outputs": [
    {
     "data": {
      "text/plain": [
       "Text(0.5, 1.0, 'Histogram for the percent change in price')"
      ]
     },
     "execution_count": 7,
     "metadata": {},
     "output_type": "execute_result"
    },
    {
     "data": {
      "image/png": "[encoded data removed]",
      "text/plain": [
       "<Figure size 432x288 with 1 Axes>"
      ]
     },
     "metadata": {
      "needs_background": "light"
     },
     "output_type": "display_data"
    }
   ],
   "source": [
    "plt.hist(df_price_pct_chg['Adj Close'])\n",
    "plt.title('Histogram for the percent change in price')"
   ]
  },
  {
   "cell_type": "markdown",
   "metadata": {},
   "source": [
    "**Answer:** The distribution of the percent change in price looks the most normal"
   ]
  },
  {
   "cell_type": "markdown",
   "metadata": {},
   "source": [
    "#### b. What is the mean and standard deviation of the % change in price?  Using the observed mean and standard deviation then what would the pdf look like if you wanted to simulate future movements using the normal distribution?"
   ]
  },
  {
   "cell_type": "code",
   "execution_count": 8,
   "metadata": {},
   "outputs": [
    {
     "data": {
      "text/plain": [
       "0.0024797966435438903"
      ]
     },
     "execution_count": 8,
     "metadata": {},
     "output_type": "execute_result"
    }
   ],
   "source": [
    "df_price_pct_chg['Adj Close'].mean()"
   ]
  },
  {
   "cell_type": "code",
   "execution_count": 9,
   "metadata": {},
   "outputs": [
    {
     "data": {
      "text/plain": [
       "0.014721941330993098"
      ]
     },
     "execution_count": 9,
     "metadata": {},
     "output_type": "execute_result"
    }
   ],
   "source": [
    "df_price_pct_chg['Adj Close'].std(ddof=1)"
   ]
  },
  {
   "cell_type": "markdown",
   "metadata": {},
   "source": [
    "## $\\int{\\frac{1}{2\\pi(0.015)} \\exp\\{(\\frac{1}{2})\\frac{(x-0.0025)^2}{(0.015)^2}\\} dx}$"
   ]
  },
  {
   "cell_type": "markdown",
   "metadata": {},
   "source": [
    "#### Central Limit Theorem\n",
    "#### a. Generate 1000 random variables with an expontial distribution.  Make a histogram of your results. Does it look like a normal distribution or not?"
   ]
  },
  {
   "cell_type": "code",
   "execution_count": 10,
   "metadata": {},
   "outputs": [],
   "source": [
    "rn1000 = np.random.exponential(1, 1000) "
   ]
  },
  {
   "cell_type": "code",
   "execution_count": 11,
   "metadata": {},
   "outputs": [
    {
     "data": {
      "text/plain": [
       "Text(0.5, 1.0, 'Histogram for 1000 random numbers')"
      ]
     },
     "execution_count": 11,
     "metadata": {},
     "output_type": "execute_result"
    },
    {
     "data": {
      "image/png": "[encoded data removed]",
      "text/plain": [
       "<Figure size 432x288 with 1 Axes>"
      ]
     },
     "metadata": {
      "needs_background": "light"
     },
     "output_type": "display_data"
    }
   ],
   "source": [
    "plt.hist(rn1000)\n",
    "plt.title('Histogram for 1000 random numbers')"
   ]
  },
  {
   "cell_type": "markdown",
   "metadata": {},
   "source": [
    "#### b. Generate 5000 random variables with an expontial distribution.  Average them 5 at a time so you have 1000 averages.  Make a histogram of your results. Does it look like a normal distribution or not?"
   ]
  },
  {
   "cell_type": "code",
   "execution_count": 12,
   "metadata": {},
   "outputs": [],
   "source": [
    "rn5000 = np.random.exponential(size=(10000, 5))\n",
    "avg5 = []\n",
    "for i in rn5000:\n",
    "    temp = np.average(i)\n",
    "    avg5.append(temp)"
   ]
  },
  {
   "cell_type": "code",
   "execution_count": 13,
   "metadata": {},
   "outputs": [
    {
     "data": {
      "text/plain": [
       "Text(0.5, 1.0, '1000 AVG. of 5000 random numbers (n=5)')"
      ]
     },
     "execution_count": 13,
     "metadata": {},
     "output_type": "execute_result"
    },
    {
     "data": {
      "image/png": "[encoded data removed]",
      "text/plain": [
       "<Figure size 432x288 with 1 Axes>"
      ]
     },
     "metadata": {
      "needs_background": "light"
     },
     "output_type": "display_data"
    }
   ],
   "source": [
    "plt.hist(avg5)\n",
    "plt.title('1000 AVG. of 5000 random numbers (n=5)')"
   ]
  },
  {
   "cell_type": "markdown",
   "metadata": {},
   "source": [
    "#### c. Generate 20,000 random variables with an expontial distribution.  Average them 20 at a time so you have 20,000 averages.  Make a histogram of your results. Does it look like a normal distribution or not?"
   ]
  },
  {
   "cell_type": "code",
   "execution_count": 14,
   "metadata": {},
   "outputs": [],
   "source": [
    "rn20000 = np.random.exponential(size=(10000, 20)) \n",
    "avg20 = []\n",
    "for i in rn20000:\n",
    "    temp = np.average(i)\n",
    "    avg20.append(temp)"
   ]
  },
  {
   "cell_type": "code",
   "execution_count": 15,
   "metadata": {},
   "outputs": [
    {
     "data": {
      "text/plain": [
       "Text(0.5, 1.0, '1000 AVG. of 20000 random numbers (n=20)')"
      ]
     },
     "execution_count": 15,
     "metadata": {},
     "output_type": "execute_result"
    },
    {
     "data": {
      "image/png": "[encoded data removed]",
      "text/plain": [
       "<Figure size 432x288 with 1 Axes>"
      ]
     },
     "metadata": {
      "needs_background": "light"
     },
     "output_type": "display_data"
    }
   ],
   "source": [
    "plt.hist(avg20)\n",
    "plt.title('1000 AVG. of 20000 random numbers (n=20)')"
   ]
  },
  {
   "cell_type": "markdown",
   "metadata": {},
   "source": [
    "#### d. Confirm that mean and the standard deviations of your histograms in (b) and (c) are what you would expect from the central limit theorem."
   ]
  },
  {
   "cell_type": "code",
   "execution_count": 16,
   "metadata": {},
   "outputs": [
    {
     "name": "stdout",
     "output_type": "stream",
     "text": [
      "(b) population_mean= 0.9962414585434273\n",
      "(b) mean of sample mean= 0.9962414585434275\n",
      "(b) population_std= 1.0038625104948813\n",
      "(b) std of sample mean= 0.453003348318099\n",
      "\n",
      "(c) population_mean= 1.0044441006435547\n",
      "(c) mean of sample mean= 1.0044441006435547\n",
      "(c) population_std= 1.0058346356484293\n",
      "(c) std of sample mean= 0.2273228649762588\n"
     ]
    }
   ],
   "source": [
    "print('(b) population_mean=', np.mean(rn5000))\n",
    "print('(b) mean of sample mean=', np.mean(avg5))\n",
    "print('(b) population_std=', np.std(rn5000))\n",
    "print('(b) std of sample mean=', np.std(avg5, ddof=1))\n",
    "print('')\n",
    "print('(c) population_mean=', np.mean(rn20000))\n",
    "print('(c) mean of sample mean=', np.mean(avg20))\n",
    "print('(c) population_std=', np.std(rn20000))\n",
    "print('(c) std of sample mean=', np.std(avg20, ddof=1))"
   ]
  },
  {
   "cell_type": "markdown",
   "metadata": {},
   "source": [
    "#### e. With your stock data, if you average 5 prices (so you have 50 observations) and make a histogram does the data look normal?  Why not? Hint : Are the observations independent?\n"
   ]
  },
  {
   "cell_type": "code",
   "execution_count": 17,
   "metadata": {},
   "outputs": [],
   "source": [
    "data_prices = np.array(data['Adj Close']).reshape(50, 5)\n",
    "\n",
    "price_avg5 = []\n",
    "for i in data_prices:\n",
    "    temp = np.average(i)\n",
    "    price_avg5.append(temp)"
   ]
  },
  {
   "cell_type": "code",
   "execution_count": 18,
   "metadata": {},
   "outputs": [
    {
     "data": {
      "text/plain": [
       "Text(0.5, 1.0, '50 AVG. of 250 random numbers (n=5)')"
      ]
     },
     "execution_count": 18,
     "metadata": {},
     "output_type": "execute_result"
    },
    {
     "data": {
      "image/png": "[encoded data removed]",
      "text/plain": [
       "<Figure size 432x288 with 1 Axes>"
      ]
     },
     "metadata": {
      "needs_background": "light"
     },
     "output_type": "display_data"
    }
   ],
   "source": [
    "plt.hist(price_avg5)\n",
    "plt.title('50 AVG. of 250 random numbers (n=5)')"
   ]
  },
  {
   "cell_type": "markdown",
   "metadata": {},
   "source": [
    "**Answer:** It doesn't look normal because CLT assumes that the random variables are indenpendtly and identically distributed."
   ]
  },
  {
   "cell_type": "markdown",
   "metadata": {},
   "source": [
    "#### T-Tests\n",
    " We focused on z-tests during class. With this we will do a slight modification for t-test.\n",
    "\n",
    "for problem 2 (c) and (d) for each set of 5 or 20 data points we are calculating the mean.  We can also calculate the standard deviation.   \n",
    "If we use the following formula\n",
    "\n",
    "( mean - true mean ) / (std dev / number of data points )\n",
    "\n",
    "with number of data points = 5 or 20 \n",
    "\n",
    "do we still get we are 1 standard deviation away 36% of the time and 1.96 std deviations away 5% of the time?  Which set gives better results the 5 data points or the 20?   \n",
    "\n",
    "Look up a  t-table for 4 degrees of freedom and 19 degrees of freedom.  They give different numbers than the z table for 36% and 5%.  Do your results match these?"
   ]
  },
  {
   "cell_type": "code",
   "execution_count": 19,
   "metadata": {},
   "outputs": [
    {
     "name": "stdout",
     "output_type": "stream",
     "text": [
      "1 std away (5 data pt.): 41.93 %\n",
      "1.96 std away (5 data pt.): 19.139999999999997 %\n",
      "1 std away (20 data pt.): 34.77 %\n",
      "1.96 std away (20 data pt.): 9.9 %\n"
     ]
    }
   ],
   "source": [
    "#for the sample size = 5\n",
    "\n",
    "population_mean5 = np.average(rn5000)\n",
    "#print(population_mean5)\n",
    "\n",
    "s5 = np.std(rn5000, axis=1, ddof=1) / np.sqrt(5)\n",
    "#print(s5)\n",
    "\n",
    "a = np.abs((avg5 - population_mean5) / s5) > 1 \n",
    "\n",
    "print('1 std away (5 data pt.):', sum(a) / len(avg5) * 100, '%')\n",
    "\n",
    "a = np.abs((avg5 - population_mean5) / s5) > 1.96 \n",
    "\n",
    "print('1.96 std away (5 data pt.):', sum(a) / len(avg5) * 100, '%')\n",
    "\n",
    "population_mean20 = np.average(rn20000)\n",
    "\n",
    "s20 = np.std(rn20000, axis=1, ddof=1) / np.sqrt(20)\n",
    "    \n",
    "a = np.abs((avg20 - population_mean20) / s20) > 1\n",
    "\n",
    "print('1 std away (20 data pt.):', sum(a) / len(avg20) * 100, '%')\n",
    "\n",
    "a = np.abs((avg20 - population_mean20) / s20) > 1.96\n",
    "\n",
    "print('1.96 std away (20 data pt.):', sum(a) / len(avg20) * 100, '%')"
   ]
  },
  {
   "cell_type": "markdown",
   "metadata": {},
   "source": [
    "**Answer:** The sets of 20 data points get better results. "
   ]
  },
  {
   "cell_type": "markdown",
   "metadata": {},
   "source": [
    "#### T-test:"
   ]
  },
  {
   "cell_type": "code",
   "execution_count": 20,
   "metadata": {},
   "outputs": [
    {
     "name": "stdout",
     "output_type": "stream",
     "text": [
      "alpha=32%, (5 data pt.): 36.26 %\n",
      "alpha=5%, (5 data pt.): 12.030000000000001 %\n",
      "alpha=32%, (20 data pt.): 33.81 %\n",
      "alpha=5%, (20 data pt.): 8.44 %\n"
     ]
    }
   ],
   "source": [
    "#for the sample size = 5\n",
    "\n",
    "a = np.abs((avg5 - population_mean5) / s5) > 1.1402\n",
    "\n",
    "print('alpha=32%, (5 data pt.):', sum(a) / len(avg5) * 100, '%')\n",
    "\n",
    "a = np.abs((avg5 - population_mean5) / s5) > 2.776\n",
    "\n",
    "print('alpha=5%, (5 data pt.):', sum(a) / len(avg5) * 100, '%')\n",
    "    \n",
    "a = np.abs((avg20 - population_mean20) / s20) > 1.025\n",
    "\n",
    "print('alpha=32%, (20 data pt.):', sum(a) / len(avg20) * 100, '%')\n",
    "\n",
    "a = np.abs((avg20 - population_mean20) / s20) > 2.093\n",
    "\n",
    "print('alpha=5%, (20 data pt.):', sum(a) / len(avg20) * 100, '%')"
   ]
  },
  {
   "cell_type": "markdown",
   "metadata": {},
   "source": [
    "**Answer:** No, because:\n",
    "1. The population is not normally distributed\n",
    "2. The sample sizes (5, 20) are less than 30.  \n",
    "Therefore, we cannot use normal approximation and neither z-test nor t-test give us correct results."
   ]
  },
  {
   "cell_type": "code",
   "execution_count": null,
   "metadata": {},
   "outputs": [],
   "source": []
  }
 ],
 "metadata": {
  "kernelspec": {
   "display_name": "Python 3",
   "language": "python",
   "name": "python3"
  },
  "language_info": {
   "codemirror_mode": {
    "name": "ipython",
    "version": 3
   },
   "file_extension": ".py",
   "mimetype": "text/x-python",
   "name": "python",
   "nbconvert_exporter": "python",
   "pygments_lexer": "ipython3",
   "version": "3.7.3"
  }
 },
 "nbformat": 4,
 "nbformat_minor": 2
}
