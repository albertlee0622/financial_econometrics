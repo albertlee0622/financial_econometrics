{
 "cells": [
  {
   "cell_type": "markdown",
   "metadata": {},
   "source": [
    "## FRE6091_HW2_Albert Lee"
   ]
  },
  {
   "cell_type": "markdown",
   "metadata": {},
   "source": [
    "### Let's do simulations to test what we learned in class on Tuesday\n",
    "### 1. Testing for Normality\n",
    "\n",
    "#### Last Homework you looked at stock price data and decided if price or % change in price looked more normally distributed with the same data\n",
    "\n",
    "#### a. Preform a sign test to see if the median is equal to the mean"
   ]
  },
  {
   "cell_type": "code",
   "execution_count": 1,
   "metadata": {},
   "outputs": [],
   "source": [
    "from pandas_datareader import data as pdr\n",
    "import pandas as pd\n",
    "import yfinance as yf; yf.pdr_override()\n",
    "import matplotlib.pyplot as plt \n",
    "from math import factorial\n",
    "import numpy as np\n",
    "from scipy import stats"
   ]
  },
  {
   "cell_type": "code",
   "execution_count": 2,
   "metadata": {},
   "outputs": [
    {
     "name": "stdout",
     "output_type": "stream",
     "text": [
      "[*********************100%***********************]  1 of 1 completed\n",
      "(250, 6)\n"
     ]
    },
    {
     "data": {
      "text/html": [
       "<div>\n",
       "<style scoped>\n",
       "    .dataframe tbody tr th:only-of-type {\n",
       "        vertical-align: middle;\n",
       "    }\n",
       "\n",
       "    .dataframe tbody tr th {\n",
       "        vertical-align: top;\n",
       "    }\n",
       "\n",
       "    .dataframe thead th {\n",
       "        text-align: right;\n",
       "    }\n",
       "</style>\n",
       "<table border=\"1\" class=\"dataframe\">\n",
       "  <thead>\n",
       "    <tr style=\"text-align: right;\">\n",
       "      <th></th>\n",
       "      <th>Open</th>\n",
       "      <th>High</th>\n",
       "      <th>Low</th>\n",
       "      <th>Close</th>\n",
       "      <th>Adj Close</th>\n",
       "      <th>Volume</th>\n",
       "    </tr>\n",
       "    <tr>\n",
       "      <th>Date</th>\n",
       "      <th></th>\n",
       "      <th></th>\n",
       "      <th></th>\n",
       "      <th></th>\n",
       "      <th></th>\n",
       "      <th></th>\n",
       "    </tr>\n",
       "  </thead>\n",
       "  <tbody>\n",
       "    <tr>\n",
       "      <th>2019-02-05</th>\n",
       "      <td>172.860001</td>\n",
       "      <td>175.080002</td>\n",
       "      <td>172.350006</td>\n",
       "      <td>174.179993</td>\n",
       "      <td>171.195389</td>\n",
       "      <td>36101600</td>\n",
       "    </tr>\n",
       "    <tr>\n",
       "      <th>2019-02-06</th>\n",
       "      <td>174.649994</td>\n",
       "      <td>175.570007</td>\n",
       "      <td>172.850006</td>\n",
       "      <td>174.240005</td>\n",
       "      <td>171.254364</td>\n",
       "      <td>28239600</td>\n",
       "    </tr>\n",
       "    <tr>\n",
       "      <th>2019-02-07</th>\n",
       "      <td>172.399994</td>\n",
       "      <td>173.940002</td>\n",
       "      <td>170.339996</td>\n",
       "      <td>170.940002</td>\n",
       "      <td>168.010910</td>\n",
       "      <td>31741700</td>\n",
       "    </tr>\n",
       "    <tr>\n",
       "      <th>2019-02-08</th>\n",
       "      <td>168.990005</td>\n",
       "      <td>170.660004</td>\n",
       "      <td>168.419998</td>\n",
       "      <td>170.410004</td>\n",
       "      <td>168.208328</td>\n",
       "      <td>23820000</td>\n",
       "    </tr>\n",
       "    <tr>\n",
       "      <th>2019-02-11</th>\n",
       "      <td>171.050003</td>\n",
       "      <td>171.210007</td>\n",
       "      <td>169.250000</td>\n",
       "      <td>169.429993</td>\n",
       "      <td>167.240967</td>\n",
       "      <td>20993400</td>\n",
       "    </tr>\n",
       "  </tbody>\n",
       "</table>\n",
       "</div>"
      ],
      "text/plain": [
       "                  Open        High         Low       Close   Adj Close  \\\n",
       "Date                                                                     \n",
       "2019-02-05  172.860001  175.080002  172.350006  174.179993  171.195389   \n",
       "2019-02-06  174.649994  175.570007  172.850006  174.240005  171.254364   \n",
       "2019-02-07  172.399994  173.940002  170.339996  170.940002  168.010910   \n",
       "2019-02-08  168.990005  170.660004  168.419998  170.410004  168.208328   \n",
       "2019-02-11  171.050003  171.210007  169.250000  169.429993  167.240967   \n",
       "\n",
       "              Volume  \n",
       "Date                  \n",
       "2019-02-05  36101600  \n",
       "2019-02-06  28239600  \n",
       "2019-02-07  31741700  \n",
       "2019-02-08  23820000  \n",
       "2019-02-11  20993400  "
      ]
     },
     "execution_count": 2,
     "metadata": {},
     "output_type": "execute_result"
    }
   ],
   "source": [
    "data = pdr.get_data_yahoo(\"AAPL\", start=\"2019-02-05\", end=\"2020-1-31\")\n",
    "print(data.shape)\n",
    "data.head()"
   ]
  },
  {
   "cell_type": "markdown",
   "metadata": {},
   "source": [
    "$H_0: Median~Price = Mean~Price$  \n",
    "$H_1: Median~Price \\neq Mean~Price$"
   ]
  },
  {
   "cell_type": "code",
   "execution_count": 3,
   "metadata": {},
   "outputs": [
    {
     "name": "stdout",
     "output_type": "stream",
     "text": [
      "Mean (Price)= 220.26152600097657\n",
      "NumberOf(-)= 163\n",
      "NumberOf(+)= 87\n",
      "Pr[NumberOf(-) >= 163 or NumberOf(+) <= 87] = 1.7654640824532268e-06 < .01\n"
     ]
    }
   ],
   "source": [
    "total_num = len(data['Adj Close'])\n",
    "\n",
    "mean_price = data['Adj Close'].mean()\n",
    "print('Mean (Price)=', mean_price)\n",
    "\n",
    "minus_price = sum((data['Adj Close'] - mean_price) < 0)\n",
    "print('NumberOf(-)=', minus_price)\n",
    "\n",
    "plus_price = sum((data['Adj Close'] - mean_price) > 0)\n",
    "print('NumberOf(+)=', plus_price)\n",
    "\n",
    "test_price = stats.binom_test(minus_price, n=total_num, p=0.5)\n",
    "print('Pr[NumberOf(-) >= 163 or NumberOf(+) <= 87] =', test_price, '< .01')\n"
   ]
  },
  {
   "cell_type": "markdown",
   "metadata": {},
   "source": [
    "$Reject~H_0 \\rightarrow Median~Price \\neq Mean~Price~at~99\\%~confidence~level$  "
   ]
  },
  {
   "cell_type": "code",
   "execution_count": 4,
   "metadata": {},
   "outputs": [
    {
     "data": {
      "text/html": [
       "<div>\n",
       "<style scoped>\n",
       "    .dataframe tbody tr th:only-of-type {\n",
       "        vertical-align: middle;\n",
       "    }\n",
       "\n",
       "    .dataframe tbody tr th {\n",
       "        vertical-align: top;\n",
       "    }\n",
       "\n",
       "    .dataframe thead th {\n",
       "        text-align: right;\n",
       "    }\n",
       "</style>\n",
       "<table border=\"1\" class=\"dataframe\">\n",
       "  <thead>\n",
       "    <tr style=\"text-align: right;\">\n",
       "      <th></th>\n",
       "      <th>Open</th>\n",
       "      <th>High</th>\n",
       "      <th>Low</th>\n",
       "      <th>Close</th>\n",
       "      <th>Adj Close</th>\n",
       "      <th>Volume</th>\n",
       "    </tr>\n",
       "    <tr>\n",
       "      <th>Date</th>\n",
       "      <th></th>\n",
       "      <th></th>\n",
       "      <th></th>\n",
       "      <th></th>\n",
       "      <th></th>\n",
       "      <th></th>\n",
       "    </tr>\n",
       "  </thead>\n",
       "  <tbody>\n",
       "    <tr>\n",
       "      <th>2019-02-06</th>\n",
       "      <td>0.010355</td>\n",
       "      <td>0.002799</td>\n",
       "      <td>0.002901</td>\n",
       "      <td>0.000345</td>\n",
       "      <td>0.000344</td>\n",
       "      <td>-0.217774</td>\n",
       "    </tr>\n",
       "    <tr>\n",
       "      <th>2019-02-07</th>\n",
       "      <td>-0.012883</td>\n",
       "      <td>-0.009284</td>\n",
       "      <td>-0.014521</td>\n",
       "      <td>-0.018939</td>\n",
       "      <td>-0.018939</td>\n",
       "      <td>0.124014</td>\n",
       "    </tr>\n",
       "    <tr>\n",
       "      <th>2019-02-08</th>\n",
       "      <td>-0.019780</td>\n",
       "      <td>-0.018857</td>\n",
       "      <td>-0.011272</td>\n",
       "      <td>-0.003100</td>\n",
       "      <td>0.001175</td>\n",
       "      <td>-0.249568</td>\n",
       "    </tr>\n",
       "    <tr>\n",
       "      <th>2019-02-11</th>\n",
       "      <td>0.012190</td>\n",
       "      <td>0.003223</td>\n",
       "      <td>0.004928</td>\n",
       "      <td>-0.005751</td>\n",
       "      <td>-0.005751</td>\n",
       "      <td>-0.118665</td>\n",
       "    </tr>\n",
       "    <tr>\n",
       "      <th>2019-02-12</th>\n",
       "      <td>-0.005554</td>\n",
       "      <td>-0.001227</td>\n",
       "      <td>0.002659</td>\n",
       "      <td>0.008617</td>\n",
       "      <td>0.008617</td>\n",
       "      <td>0.061453</td>\n",
       "    </tr>\n",
       "  </tbody>\n",
       "</table>\n",
       "</div>"
      ],
      "text/plain": [
       "                Open      High       Low     Close  Adj Close    Volume\n",
       "Date                                                                   \n",
       "2019-02-06  0.010355  0.002799  0.002901  0.000345   0.000344 -0.217774\n",
       "2019-02-07 -0.012883 -0.009284 -0.014521 -0.018939  -0.018939  0.124014\n",
       "2019-02-08 -0.019780 -0.018857 -0.011272 -0.003100   0.001175 -0.249568\n",
       "2019-02-11  0.012190  0.003223  0.004928 -0.005751  -0.005751 -0.118665\n",
       "2019-02-12 -0.005554 -0.001227  0.002659  0.008617   0.008617  0.061453"
      ]
     },
     "execution_count": 4,
     "metadata": {},
     "output_type": "execute_result"
    }
   ],
   "source": [
    "df_pct_chg = data.pct_change(periods=1, axis=0)\n",
    "df_pct_chg.dropna(inplace=True)\n",
    "df_pct_chg.head()"
   ]
  },
  {
   "cell_type": "markdown",
   "metadata": {},
   "source": [
    "$H_0: Median~\\%~Change = Mean~\\%~Change$  \n",
    "$H_1: Median~\\%~Change \\neq Mean~\\%~Change$"
   ]
  },
  {
   "cell_type": "code",
   "execution_count": 5,
   "metadata": {},
   "outputs": [
    {
     "name": "stdout",
     "output_type": "stream",
     "text": [
      "Mean (% change)= 0.0024797966435438903\n",
      "NumberOf(-)= 124\n",
      "NumberOf(+)= 125\n",
      "Pr[NumberOf(-) >= 124 or NumberOf(+) <= 125]= 1.0\n"
     ]
    }
   ],
   "source": [
    "total_num = len(df_pct_chg['Adj Close'])\n",
    "\n",
    "mean_pct = df_pct_chg['Adj Close'].mean()\n",
    "print('Mean (% change)=', mean_pct)\n",
    "\n",
    "minus_pct = sum((df_pct_chg['Adj Close'] - mean_pct) < 0)\n",
    "print('NumberOf(-)=', minus_pct)\n",
    "\n",
    "plus_pct = sum((df_pct_chg['Adj Close'] - mean_pct) > 0)\n",
    "print('NumberOf(+)=', plus_pct)\n",
    "\n",
    "test_pct = stats.binom_test(minus_pct, n=total_num, p=0.5)\n",
    "print('Pr[NumberOf(-) >= 124 or NumberOf(+) <= 125]=', test_pct)\n"
   ]
  },
  {
   "cell_type": "markdown",
   "metadata": {},
   "source": [
    "$Do~Not~Reject~H_0 \\rightarrow Median~\\%~Change = Mean~\\%~Change$  "
   ]
  },
  {
   "cell_type": "markdown",
   "metadata": {},
   "source": [
    "#### b. bucket your data in 10 buckets of equal probability using the normal model. Preform a chi-squared test to see if the data looks normal or not."
   ]
  },
  {
   "cell_type": "markdown",
   "metadata": {},
   "source": [
    "$H_0: Price~is~Normal$  \n",
    "$H_1: Price~is~not~Normal$"
   ]
  },
  {
   "cell_type": "code",
   "execution_count": 6,
   "metadata": {},
   "outputs": [
    {
     "data": {
      "text/html": [
       "<div>\n",
       "<style scoped>\n",
       "    .dataframe tbody tr th:only-of-type {\n",
       "        vertical-align: middle;\n",
       "    }\n",
       "\n",
       "    .dataframe tbody tr th {\n",
       "        vertical-align: top;\n",
       "    }\n",
       "\n",
       "    .dataframe thead th {\n",
       "        text-align: right;\n",
       "    }\n",
       "</style>\n",
       "<table border=\"1\" class=\"dataframe\">\n",
       "  <thead>\n",
       "    <tr style=\"text-align: right;\">\n",
       "      <th></th>\n",
       "      <th>exp</th>\n",
       "      <th>exp_num</th>\n",
       "      <th>obs</th>\n",
       "      <th>(obs-exp)^2/exp</th>\n",
       "    </tr>\n",
       "  </thead>\n",
       "  <tbody>\n",
       "    <tr>\n",
       "      <th>0</th>\n",
       "      <td>0.1</td>\n",
       "      <td>24.9</td>\n",
       "      <td>1.0</td>\n",
       "      <td>22.940161</td>\n",
       "    </tr>\n",
       "    <tr>\n",
       "      <th>1</th>\n",
       "      <td>0.1</td>\n",
       "      <td>24.9</td>\n",
       "      <td>43.0</td>\n",
       "      <td>13.157028</td>\n",
       "    </tr>\n",
       "    <tr>\n",
       "      <th>2</th>\n",
       "      <td>0.1</td>\n",
       "      <td>24.9</td>\n",
       "      <td>47.0</td>\n",
       "      <td>19.614859</td>\n",
       "    </tr>\n",
       "    <tr>\n",
       "      <th>3</th>\n",
       "      <td>0.1</td>\n",
       "      <td>24.9</td>\n",
       "      <td>53.0</td>\n",
       "      <td>31.711245</td>\n",
       "    </tr>\n",
       "    <tr>\n",
       "      <th>4</th>\n",
       "      <td>0.1</td>\n",
       "      <td>24.9</td>\n",
       "      <td>19.0</td>\n",
       "      <td>1.397992</td>\n",
       "    </tr>\n",
       "    <tr>\n",
       "      <th>5</th>\n",
       "      <td>0.1</td>\n",
       "      <td>24.9</td>\n",
       "      <td>10.0</td>\n",
       "      <td>8.916064</td>\n",
       "    </tr>\n",
       "    <tr>\n",
       "      <th>6</th>\n",
       "      <td>0.1</td>\n",
       "      <td>24.9</td>\n",
       "      <td>9.0</td>\n",
       "      <td>10.153012</td>\n",
       "    </tr>\n",
       "    <tr>\n",
       "      <th>7</th>\n",
       "      <td>0.1</td>\n",
       "      <td>24.9</td>\n",
       "      <td>7.0</td>\n",
       "      <td>12.867871</td>\n",
       "    </tr>\n",
       "    <tr>\n",
       "      <th>8</th>\n",
       "      <td>0.1</td>\n",
       "      <td>24.9</td>\n",
       "      <td>28.0</td>\n",
       "      <td>0.385944</td>\n",
       "    </tr>\n",
       "    <tr>\n",
       "      <th>9</th>\n",
       "      <td>0.1</td>\n",
       "      <td>24.9</td>\n",
       "      <td>33.0</td>\n",
       "      <td>2.634940</td>\n",
       "    </tr>\n",
       "  </tbody>\n",
       "</table>\n",
       "</div>"
      ],
      "text/plain": [
       "   exp  exp_num   obs  (obs-exp)^2/exp\n",
       "0  0.1     24.9   1.0        22.940161\n",
       "1  0.1     24.9  43.0        13.157028\n",
       "2  0.1     24.9  47.0        19.614859\n",
       "3  0.1     24.9  53.0        31.711245\n",
       "4  0.1     24.9  19.0         1.397992\n",
       "5  0.1     24.9  10.0         8.916064\n",
       "6  0.1     24.9   9.0        10.153012\n",
       "7  0.1     24.9   7.0        12.867871\n",
       "8  0.1     24.9  28.0         0.385944\n",
       "9  0.1     24.9  33.0         2.634940"
      ]
     },
     "execution_count": 6,
     "metadata": {},
     "output_type": "execute_result"
    }
   ],
   "source": [
    "df_bucket = pd.DataFrame(data=.1 * np.ones((10, 1)), columns=['exp'])\n",
    "df_bucket['exp_num'] = df_bucket['exp'] * total_num\n",
    "obs_price = np.zeros(10)\n",
    "\n",
    "for i in range(1, 11, 1):\n",
    "    obs_price[i - 1] = sum((data['Adj Close'] - np.mean(data['Adj Close'])) / np.std(data['Adj Close'], ddof=1) \n",
    "                         <= stats.norm.ppf(i / 10))\n",
    "\n",
    "temp = np.diff(obs_price)\n",
    "temp.reshape((len(temp), 1))\n",
    "temp = np.insert(temp, 0, obs_price[0])\n",
    "df_bucket['obs'] = temp\n",
    "df_bucket['(obs-exp)^2/exp'] = (df_bucket['exp_num'] - df_bucket['obs'])**2 / df_bucket['exp_num']\n",
    "df_bucket.head(10)"
   ]
  },
  {
   "cell_type": "code",
   "execution_count": 7,
   "metadata": {},
   "outputs": [
    {
     "name": "stdout",
     "output_type": "stream",
     "text": [
      "Chi-square_obs = 123.77911646586345 > 21.67 (alpha=1%, df=9)\n"
     ]
    }
   ],
   "source": [
    "print('Chi-square_obs =', sum(df_bucket['(obs-exp)^2/exp']), '> 21.67 (alpha=1%, df=9)')"
   ]
  },
  {
   "cell_type": "markdown",
   "metadata": {},
   "source": [
    "$Reject~H_0 \\rightarrow \\%~Change~is~not~Normal$  "
   ]
  },
  {
   "cell_type": "markdown",
   "metadata": {},
   "source": [
    "$H_0: \\%~Change~is~Normal$  \n",
    "$H_1: \\%~Change~is~not~Normal$"
   ]
  },
  {
   "cell_type": "code",
   "execution_count": 8,
   "metadata": {},
   "outputs": [
    {
     "data": {
      "text/html": [
       "<div>\n",
       "<style scoped>\n",
       "    .dataframe tbody tr th:only-of-type {\n",
       "        vertical-align: middle;\n",
       "    }\n",
       "\n",
       "    .dataframe tbody tr th {\n",
       "        vertical-align: top;\n",
       "    }\n",
       "\n",
       "    .dataframe thead th {\n",
       "        text-align: right;\n",
       "    }\n",
       "</style>\n",
       "<table border=\"1\" class=\"dataframe\">\n",
       "  <thead>\n",
       "    <tr style=\"text-align: right;\">\n",
       "      <th></th>\n",
       "      <th>exp</th>\n",
       "      <th>exp_num</th>\n",
       "      <th>obs</th>\n",
       "      <th>(obs-exp)^2/exp</th>\n",
       "    </tr>\n",
       "  </thead>\n",
       "  <tbody>\n",
       "    <tr>\n",
       "      <th>0</th>\n",
       "      <td>0.1</td>\n",
       "      <td>25.0</td>\n",
       "      <td>21.0</td>\n",
       "      <td>0.64</td>\n",
       "    </tr>\n",
       "    <tr>\n",
       "      <th>1</th>\n",
       "      <td>0.1</td>\n",
       "      <td>25.0</td>\n",
       "      <td>17.0</td>\n",
       "      <td>2.56</td>\n",
       "    </tr>\n",
       "    <tr>\n",
       "      <th>2</th>\n",
       "      <td>0.1</td>\n",
       "      <td>25.0</td>\n",
       "      <td>20.0</td>\n",
       "      <td>1.00</td>\n",
       "    </tr>\n",
       "    <tr>\n",
       "      <th>3</th>\n",
       "      <td>0.1</td>\n",
       "      <td>25.0</td>\n",
       "      <td>36.0</td>\n",
       "      <td>4.84</td>\n",
       "    </tr>\n",
       "    <tr>\n",
       "      <th>4</th>\n",
       "      <td>0.1</td>\n",
       "      <td>25.0</td>\n",
       "      <td>30.0</td>\n",
       "      <td>1.00</td>\n",
       "    </tr>\n",
       "    <tr>\n",
       "      <th>5</th>\n",
       "      <td>0.1</td>\n",
       "      <td>25.0</td>\n",
       "      <td>27.0</td>\n",
       "      <td>0.16</td>\n",
       "    </tr>\n",
       "    <tr>\n",
       "      <th>6</th>\n",
       "      <td>0.1</td>\n",
       "      <td>25.0</td>\n",
       "      <td>27.0</td>\n",
       "      <td>0.16</td>\n",
       "    </tr>\n",
       "    <tr>\n",
       "      <th>7</th>\n",
       "      <td>0.1</td>\n",
       "      <td>25.0</td>\n",
       "      <td>28.0</td>\n",
       "      <td>0.36</td>\n",
       "    </tr>\n",
       "    <tr>\n",
       "      <th>8</th>\n",
       "      <td>0.1</td>\n",
       "      <td>25.0</td>\n",
       "      <td>23.0</td>\n",
       "      <td>0.16</td>\n",
       "    </tr>\n",
       "    <tr>\n",
       "      <th>9</th>\n",
       "      <td>0.1</td>\n",
       "      <td>25.0</td>\n",
       "      <td>20.0</td>\n",
       "      <td>1.00</td>\n",
       "    </tr>\n",
       "  </tbody>\n",
       "</table>\n",
       "</div>"
      ],
      "text/plain": [
       "   exp  exp_num   obs  (obs-exp)^2/exp\n",
       "0  0.1     25.0  21.0             0.64\n",
       "1  0.1     25.0  17.0             2.56\n",
       "2  0.1     25.0  20.0             1.00\n",
       "3  0.1     25.0  36.0             4.84\n",
       "4  0.1     25.0  30.0             1.00\n",
       "5  0.1     25.0  27.0             0.16\n",
       "6  0.1     25.0  27.0             0.16\n",
       "7  0.1     25.0  28.0             0.36\n",
       "8  0.1     25.0  23.0             0.16\n",
       "9  0.1     25.0  20.0             1.00"
      ]
     },
     "execution_count": 8,
     "metadata": {},
     "output_type": "execute_result"
    }
   ],
   "source": [
    "total_num = len(data['Adj Close'])\n",
    "\n",
    "df_bucket = pd.DataFrame(data=.1 * np.ones((10, 1)), columns=['exp'])\n",
    "df_bucket['exp_num'] = df_bucket['exp'] * total_num\n",
    "obs_pct = np.zeros(10)\n",
    "\n",
    "for i in range(1, 11, 1):\n",
    "    obs_pct[i - 1] = sum((df_pct_chg['Adj Close'] - np.mean(df_pct_chg['Adj Close'])) / np.std(df_pct_chg['Adj Close'], ddof=1) \n",
    "                         <= stats.norm.ppf(i / 10))\n",
    "\n",
    "temp = np.diff(obs_pct)\n",
    "temp.reshape((len(temp), 1))\n",
    "temp = np.insert(temp, 0, obs_pct[0])\n",
    "df_bucket['obs'] = temp\n",
    "df_bucket['(obs-exp)^2/exp'] = (df_bucket['exp_num'] - df_bucket['obs'])**2 / df_bucket['exp_num']\n",
    "df_bucket.head(10)"
   ]
  },
  {
   "cell_type": "code",
   "execution_count": 9,
   "metadata": {},
   "outputs": [
    {
     "name": "stdout",
     "output_type": "stream",
     "text": [
      "Chi-square_obs = 11.879999999999999 < 14.68 (alpha=10%, df=9)\n"
     ]
    }
   ],
   "source": [
    "print('Chi-square_obs =', sum(df_bucket['(obs-exp)^2/exp']), '< 14.68 (alpha=10%, df=9)')"
   ]
  },
  {
   "cell_type": "markdown",
   "metadata": {},
   "source": [
    "$Do~Not~Reject~H_0 \\rightarrow \\%~Change~is~Normal$  "
   ]
  },
  {
   "cell_type": "markdown",
   "metadata": {},
   "source": [
    "#### c. do you get the same result if you use buckets of equal length instead of equal probability?"
   ]
  },
  {
   "cell_type": "code",
   "execution_count": 10,
   "metadata": {},
   "outputs": [
    {
     "name": "stdout",
     "output_type": "stream",
     "text": [
      "167.240966796875\n",
      "323.5720520019531\n",
      "[-0.90374121 -0.5258528  -0.14796438  0.22992403  0.60781244  0.98570086\n",
      "  1.36358927  1.74147768  2.1193661   2.49725451]\n"
     ]
    }
   ],
   "source": [
    "print(min(data['Adj Close']))\n",
    "print(max(data['Adj Close']))\n",
    "test = (max(data['Adj Close']) - min(data['Adj Close'])) / 10\n",
    "\n",
    "interval = np.zeros(10)\n",
    "\n",
    "temp = min(data['Adj Close'])\n",
    "\n",
    "for i in range(10):\n",
    "    interval[i] = temp + test\n",
    "    temp = interval[i]\n",
    "\n",
    "interval = (interval - np.mean(data['Adj Close'])) / np.std(data['Adj Close'], ddof=1)\n",
    "print(interval)"
   ]
  },
  {
   "cell_type": "code",
   "execution_count": 11,
   "metadata": {},
   "outputs": [
    {
     "data": {
      "text/html": [
       "<div>\n",
       "<style scoped>\n",
       "    .dataframe tbody tr th:only-of-type {\n",
       "        vertical-align: middle;\n",
       "    }\n",
       "\n",
       "    .dataframe tbody tr th {\n",
       "        vertical-align: top;\n",
       "    }\n",
       "\n",
       "    .dataframe thead th {\n",
       "        text-align: right;\n",
       "    }\n",
       "</style>\n",
       "<table border=\"1\" class=\"dataframe\">\n",
       "  <thead>\n",
       "    <tr style=\"text-align: right;\">\n",
       "      <th></th>\n",
       "      <th>exp</th>\n",
       "      <th>exp_num</th>\n",
       "      <th>obs</th>\n",
       "      <th>(obs-exp)^2/exp</th>\n",
       "    </tr>\n",
       "  </thead>\n",
       "  <tbody>\n",
       "    <tr>\n",
       "      <th>0</th>\n",
       "      <td>0.1</td>\n",
       "      <td>25.0</td>\n",
       "      <td>38.0</td>\n",
       "      <td>6.76</td>\n",
       "    </tr>\n",
       "    <tr>\n",
       "      <th>1</th>\n",
       "      <td>0.1</td>\n",
       "      <td>25.0</td>\n",
       "      <td>53.0</td>\n",
       "      <td>31.36</td>\n",
       "    </tr>\n",
       "    <tr>\n",
       "      <th>2</th>\n",
       "      <td>0.1</td>\n",
       "      <td>25.0</td>\n",
       "      <td>59.0</td>\n",
       "      <td>46.24</td>\n",
       "    </tr>\n",
       "    <tr>\n",
       "      <th>3</th>\n",
       "      <td>0.1</td>\n",
       "      <td>25.0</td>\n",
       "      <td>23.0</td>\n",
       "      <td>0.16</td>\n",
       "    </tr>\n",
       "    <tr>\n",
       "      <th>4</th>\n",
       "      <td>0.1</td>\n",
       "      <td>25.0</td>\n",
       "      <td>13.0</td>\n",
       "      <td>5.76</td>\n",
       "    </tr>\n",
       "    <tr>\n",
       "      <th>5</th>\n",
       "      <td>0.1</td>\n",
       "      <td>25.0</td>\n",
       "      <td>9.0</td>\n",
       "      <td>10.24</td>\n",
       "    </tr>\n",
       "    <tr>\n",
       "      <th>6</th>\n",
       "      <td>0.1</td>\n",
       "      <td>25.0</td>\n",
       "      <td>23.0</td>\n",
       "      <td>0.16</td>\n",
       "    </tr>\n",
       "    <tr>\n",
       "      <th>7</th>\n",
       "      <td>0.1</td>\n",
       "      <td>25.0</td>\n",
       "      <td>10.0</td>\n",
       "      <td>9.00</td>\n",
       "    </tr>\n",
       "    <tr>\n",
       "      <th>8</th>\n",
       "      <td>0.1</td>\n",
       "      <td>25.0</td>\n",
       "      <td>6.0</td>\n",
       "      <td>14.44</td>\n",
       "    </tr>\n",
       "    <tr>\n",
       "      <th>9</th>\n",
       "      <td>0.1</td>\n",
       "      <td>25.0</td>\n",
       "      <td>15.0</td>\n",
       "      <td>4.00</td>\n",
       "    </tr>\n",
       "  </tbody>\n",
       "</table>\n",
       "</div>"
      ],
      "text/plain": [
       "   exp  exp_num   obs  (obs-exp)^2/exp\n",
       "0  0.1     25.0  38.0             6.76\n",
       "1  0.1     25.0  53.0            31.36\n",
       "2  0.1     25.0  59.0            46.24\n",
       "3  0.1     25.0  23.0             0.16\n",
       "4  0.1     25.0  13.0             5.76\n",
       "5  0.1     25.0   9.0            10.24\n",
       "6  0.1     25.0  23.0             0.16\n",
       "7  0.1     25.0  10.0             9.00\n",
       "8  0.1     25.0   6.0            14.44\n",
       "9  0.1     25.0  15.0             4.00"
      ]
     },
     "execution_count": 11,
     "metadata": {},
     "output_type": "execute_result"
    }
   ],
   "source": [
    "total_num = len(data['Adj Close'])\n",
    "\n",
    "df_bucket = pd.DataFrame(data=.1 * np.ones((10, 1)), columns=['exp'])\n",
    "df_bucket['exp_num'] = df_bucket['exp'] * total_num\n",
    "obs_price = np.zeros(10)\n",
    "\n",
    "for i in range(0, 10, 1):\n",
    "    obs_price[i] = sum((data['Adj Close'] - np.mean(data['Adj Close'])) / np.std(data['Adj Close'], ddof=1) \n",
    "                         <= interval[i])\n",
    "\n",
    "temp = np.diff(obs_price)\n",
    "temp.reshape((len(temp), 1))\n",
    "temp = np.insert(temp, 0, obs_price[0])\n",
    "df_bucket['obs'] = temp\n",
    "df_bucket['(obs-exp)^2/exp'] = (df_bucket['exp_num'] - df_bucket['obs'])**2 / df_bucket['exp_num']\n",
    "df_bucket.head(10)"
   ]
  },
  {
   "cell_type": "code",
   "execution_count": 12,
   "metadata": {},
   "outputs": [
    {
     "name": "stdout",
     "output_type": "stream",
     "text": [
      "Chi-square_obs = 128.12\n"
     ]
    }
   ],
   "source": [
    "print('Chi-square_obs =', sum(df_bucket['(obs-exp)^2/exp']))"
   ]
  },
  {
   "cell_type": "code",
   "execution_count": 13,
   "metadata": {},
   "outputs": [
    {
     "name": "stdout",
     "output_type": "stream",
     "text": [
      "-0.05811940487106426\n",
      "0.04908560827744868\n",
      "[-3.38805183 -2.65985294 -1.93165405 -1.20345516 -0.47525627  0.25294262\n",
      "  0.98114151  1.70934039  2.43753928  3.16573817]\n"
     ]
    }
   ],
   "source": [
    "print(min(df_pct_chg['Adj Close']))\n",
    "print(max(df_pct_chg['Adj Close']))\n",
    "test = (max(df_pct_chg['Adj Close']) - min(df_pct_chg['Adj Close'])) / 10\n",
    "\n",
    "interval = np.zeros(10)\n",
    "\n",
    "temp = min(df_pct_chg['Adj Close'])\n",
    "for i in range(10):\n",
    "    interval[i] = temp + test\n",
    "    temp = interval[i]\n",
    "\n",
    "interval = (interval - np.mean(df_pct_chg['Adj Close'])) / np.std(df_pct_chg['Adj Close'], ddof=1)\n",
    "print(interval)"
   ]
  },
  {
   "cell_type": "code",
   "execution_count": 14,
   "metadata": {},
   "outputs": [
    {
     "data": {
      "text/html": [
       "<div>\n",
       "<style scoped>\n",
       "    .dataframe tbody tr th:only-of-type {\n",
       "        vertical-align: middle;\n",
       "    }\n",
       "\n",
       "    .dataframe tbody tr th {\n",
       "        vertical-align: top;\n",
       "    }\n",
       "\n",
       "    .dataframe thead th {\n",
       "        text-align: right;\n",
       "    }\n",
       "</style>\n",
       "<table border=\"1\" class=\"dataframe\">\n",
       "  <thead>\n",
       "    <tr style=\"text-align: right;\">\n",
       "      <th></th>\n",
       "      <th>exp</th>\n",
       "      <th>exp_num</th>\n",
       "      <th>obs</th>\n",
       "      <th>(obs-exp)^2/exp</th>\n",
       "    </tr>\n",
       "  </thead>\n",
       "  <tbody>\n",
       "    <tr>\n",
       "      <th>0</th>\n",
       "      <td>0.1</td>\n",
       "      <td>24.9</td>\n",
       "      <td>0.0</td>\n",
       "      <td>24.900000</td>\n",
       "    </tr>\n",
       "    <tr>\n",
       "      <th>1</th>\n",
       "      <td>0.1</td>\n",
       "      <td>24.9</td>\n",
       "      <td>0.0</td>\n",
       "      <td>24.900000</td>\n",
       "    </tr>\n",
       "    <tr>\n",
       "      <th>2</th>\n",
       "      <td>0.1</td>\n",
       "      <td>24.9</td>\n",
       "      <td>0.0</td>\n",
       "      <td>24.900000</td>\n",
       "    </tr>\n",
       "    <tr>\n",
       "      <th>3</th>\n",
       "      <td>0.1</td>\n",
       "      <td>24.9</td>\n",
       "      <td>11.0</td>\n",
       "      <td>7.759438</td>\n",
       "    </tr>\n",
       "    <tr>\n",
       "      <th>4</th>\n",
       "      <td>0.1</td>\n",
       "      <td>24.9</td>\n",
       "      <td>88.0</td>\n",
       "      <td>159.904016</td>\n",
       "    </tr>\n",
       "    <tr>\n",
       "      <th>5</th>\n",
       "      <td>0.1</td>\n",
       "      <td>24.9</td>\n",
       "      <td>74.0</td>\n",
       "      <td>96.819679</td>\n",
       "    </tr>\n",
       "    <tr>\n",
       "      <th>6</th>\n",
       "      <td>0.1</td>\n",
       "      <td>24.9</td>\n",
       "      <td>22.0</td>\n",
       "      <td>0.337751</td>\n",
       "    </tr>\n",
       "    <tr>\n",
       "      <th>7</th>\n",
       "      <td>0.1</td>\n",
       "      <td>24.9</td>\n",
       "      <td>33.0</td>\n",
       "      <td>2.634940</td>\n",
       "    </tr>\n",
       "    <tr>\n",
       "      <th>8</th>\n",
       "      <td>0.1</td>\n",
       "      <td>24.9</td>\n",
       "      <td>20.0</td>\n",
       "      <td>0.964257</td>\n",
       "    </tr>\n",
       "    <tr>\n",
       "      <th>9</th>\n",
       "      <td>0.1</td>\n",
       "      <td>24.9</td>\n",
       "      <td>2.0</td>\n",
       "      <td>21.060643</td>\n",
       "    </tr>\n",
       "  </tbody>\n",
       "</table>\n",
       "</div>"
      ],
      "text/plain": [
       "   exp  exp_num   obs  (obs-exp)^2/exp\n",
       "0  0.1     24.9   0.0        24.900000\n",
       "1  0.1     24.9   0.0        24.900000\n",
       "2  0.1     24.9   0.0        24.900000\n",
       "3  0.1     24.9  11.0         7.759438\n",
       "4  0.1     24.9  88.0       159.904016\n",
       "5  0.1     24.9  74.0        96.819679\n",
       "6  0.1     24.9  22.0         0.337751\n",
       "7  0.1     24.9  33.0         2.634940\n",
       "8  0.1     24.9  20.0         0.964257\n",
       "9  0.1     24.9   2.0        21.060643"
      ]
     },
     "execution_count": 14,
     "metadata": {},
     "output_type": "execute_result"
    }
   ],
   "source": [
    "total_num = len(df_pct_chg['Adj Close'])\n",
    "\n",
    "df_bucket = pd.DataFrame(data=.1 * np.ones((10, 1)), columns=['exp'])\n",
    "df_bucket['exp_num'] = df_bucket['exp'] * total_num\n",
    "obs_price = np.zeros(10)\n",
    "\n",
    "for i in range(0, 10, 1):\n",
    "    obs_price[i] = sum((data['Adj Close'] - np.mean(data['Adj Close'])) / np.std(data['Adj Close'], ddof=1) \n",
    "                         <= interval[i])\n",
    "\n",
    "temp = np.diff(obs_price)\n",
    "temp.reshape((len(temp), 1))\n",
    "temp = np.insert(temp, 0, obs_price[0])\n",
    "df_bucket['obs'] = temp\n",
    "df_bucket['(obs-exp)^2/exp'] = (df_bucket['exp_num'] - df_bucket['obs'])**2 / df_bucket['exp_num']\n",
    "df_bucket.head(10)"
   ]
  },
  {
   "cell_type": "code",
   "execution_count": 15,
   "metadata": {},
   "outputs": [
    {
     "name": "stdout",
     "output_type": "stream",
     "text": [
      "Chi-square_obs = 364.1807228915661\n"
     ]
    }
   ],
   "source": [
    "print('Chi-square_obs =', sum(df_bucket['(obs-exp)^2/exp']))"
   ]
  },
  {
   "cell_type": "markdown",
   "metadata": {},
   "source": [
    "**Answer:** The result is totally different"
   ]
  },
  {
   "cell_type": "markdown",
   "metadata": {},
   "source": [
    "#### 2. Testing if groups have the same mean \n",
    "#### a. Let's replicate our car data.  Draw 50 normal samples, mean 25 and standard deviation 5 and another 50 of mean 26 and standard deviation of 4.  What are your observed mean and standard deviations? What is your observed t-score?  Do the two sets of data look significantly different?"
   ]
  },
  {
   "cell_type": "code",
   "execution_count": 16,
   "metadata": {},
   "outputs": [
    {
     "name": "stdout",
     "output_type": "stream",
     "text": [
      "Sample Mean(A)= 24.872425759961754\n",
      "Sample Std(A)= 4.8971654067535715\n",
      "t-score(A)= -0.026050629178730918\n",
      "\n",
      "Sample Mean(B)= 26.586722208636196\n",
      "Sample Std(B)= 3.1611778745678927\n",
      "t-score(B)= 0.5019401854611197\n"
     ]
    }
   ],
   "source": [
    "np.random.seed(1)\n",
    "A = np.random.normal(25, 5, 50)\n",
    "mu = 25\n",
    "xa = np.mean(A)\n",
    "sa= np.std(A, ddof=1)\n",
    "ta = (xa - mu) / sa \n",
    "\n",
    "print('Sample Mean(A)=', xa)\n",
    "print('Sample Std(A)=', sa)\n",
    "print('t-score(A)=', ta)\n",
    "print('')\n",
    "B = np.random.normal(26, 4, 50)\n",
    "xb = np.mean(B)\n",
    "sb = np.std(B, ddof=1)\n",
    "tb = (xb - mu) / sb \n",
    "print('Sample Mean(B)=', np.mean(B))\n",
    "print('Sample Std(B)=', np.std(B, ddof=1))\n",
    "print('t-score(B)=', tb)"
   ]
  },
  {
   "cell_type": "markdown",
   "metadata": {},
   "source": [
    "**Answer:** They look different but not significantly"
   ]
  },
  {
   "cell_type": "markdown",
   "metadata": {},
   "source": [
    "#### b. Let's replicate a matched pairs.  Draw 10 normal samples with mean 25 and standard deviation 5 (this is our mpg of 10 cars using gas A).  Now draw 10 normal samples with mean 1 and standard deviation 1.  This is the improvement per car using gas B.  Does your raw data look similar to case (a)?  Is your difference significantly far from 0?  "
   ]
  },
  {
   "cell_type": "code",
   "execution_count": 17,
   "metadata": {},
   "outputs": [
    {
     "name": "stdout",
     "output_type": "stream",
     "text": [
      "Sample Mean(A)= 25.201085891171537\n",
      "Sample Std(A)= 3.7102474018604954\n",
      "t-score(A)= 0.05419743466990997\n",
      "\n",
      "Sample Mean(B)= 0.7842799728178405\n",
      "Sample Std(B)= 0.9919759190537099\n",
      "t-score(B)= -24.411600687124153\n",
      "\n",
      "A= [22.76435718 31.12253852 27.01745821 27.96789262 19.52544077 25.84691217\n",
      " 28.70278226 20.23149699 23.66890747 25.16307273]\n",
      "B= [-0.37311732  1.31515939  1.84616065  0.14048406  1.35054598 -0.31228341\n",
      "  0.96130449 -0.61577235  2.12141771  1.40890054]\n",
      "Mean Difference (A - B)= 24.416805918353695\n"
     ]
    }
   ],
   "source": [
    "A = np.random.normal(25, 5, 10)\n",
    "B = np.random.normal(1, 1, 10)\n",
    "\n",
    "mu = 25\n",
    "xa = np.mean(A)\n",
    "sa= np.std(A, ddof=1)\n",
    "ta = (xa - mu) / sa \n",
    "\n",
    "print('Sample Mean(A)=', xa)\n",
    "print('Sample Std(A)=', sa)\n",
    "print('t-score(A)=', ta)\n",
    "print('')\n",
    "\n",
    "xb = np.mean(B)\n",
    "sb = np.std(B, ddof=1)\n",
    "tb = (xb - mu) / sb \n",
    "print('Sample Mean(B)=', np.mean(B))\n",
    "print('Sample Std(B)=', np.std(B, ddof=1))\n",
    "print('t-score(B)=', tb)\n",
    "print('')\n",
    "print('A=', A)\n",
    "print('B=', B)\n",
    "print('Mean Difference (A - B)=', sum(A - B) / len(A) )"
   ]
  },
  {
   "cell_type": "markdown",
   "metadata": {},
   "source": [
    "**Answer:** They look significantly different and the average difference between A and B is far from 0"
   ]
  },
  {
   "cell_type": "markdown",
   "metadata": {},
   "source": [
    "#### c. ANOVA let's go back to a.  Add a 3rd group of cars with mean 35 and standard deviation 5, draw another 50 samples.  Find the mean and variance of each group.  Draw a box plot of the data and preform an ANOVA and discuss your results."
   ]
  },
  {
   "cell_type": "code",
   "execution_count": 18,
   "metadata": {},
   "outputs": [
    {
     "name": "stdout",
     "output_type": "stream",
     "text": [
      "Sample Mean(A): 24.872425759961754\n",
      "Sample Var(A)= 23.982229021103876\n",
      "Sample Mean(B): 26.586722208636196\n",
      "Sample Var(B)= 9.993045554657579\n",
      "Sample Mean(C): 35.42329464029904\n",
      "Sample Var(C)= 19.379227655414155\n"
     ]
    }
   ],
   "source": [
    "np.random.seed(1)\n",
    "A = np.random.normal(25, 5, 50)\n",
    "B = np.random.normal(26, 4, 50)\n",
    "C = np.random.normal(35, 5, 50)\n",
    "\n",
    "xa = np.mean(A)\n",
    "xb = np.mean(B)\n",
    "xc = np.mean(C)\n",
    "\n",
    "va = np.var(A, ddof=1)\n",
    "vb = np.var(B, ddof=1)\n",
    "vc = np.var(C, ddof=1)\n",
    "\n",
    "print('Sample Mean(A):', xa)\n",
    "print('Sample Var(A)=', va)\n",
    "print('Sample Mean(B):', xb)\n",
    "print('Sample Var(B)=', vb)\n",
    "print('Sample Mean(C):', xc)\n",
    "print('Sample Var(C)=', vc)"
   ]
  },
  {
   "cell_type": "code",
   "execution_count": 19,
   "metadata": {},
   "outputs": [
    {
     "data": {
      "image/png": "[encoded data removed]",
      "text/plain": [
       "<Figure size 720x576 with 1 Axes>"
      ]
     },
     "metadata": {
      "needs_background": "light"
     },
     "output_type": "display_data"
    }
   ],
   "source": [
    "plt.figure(figsize=(10, 8));\n",
    "plt.boxplot([A, B, C], positions=range(1, 4), showmeans=True, labels=['A', 'B', 'C']);\n",
    "plt.xticks(fontsize=14)\n",
    "plt.yticks(fontsize=12)\n",
    "plt.grid(True, alpha=0.2)"
   ]
  },
  {
   "cell_type": "markdown",
   "metadata": {},
   "source": [
    "$H_0: \\mu_1=\\mu_2=\\mu_3$  \n",
    "$H_1: H_0~is~not~true$"
   ]
  },
  {
   "cell_type": "code",
   "execution_count": 20,
   "metadata": {},
   "outputs": [
    {
     "name": "stdout",
     "output_type": "stream",
     "text": [
      "F-statistic(2, 147): 90.12578636318077 > 2.3 (alpha=10%)\n"
     ]
    }
   ],
   "source": [
    "mean_of_mean = (xa + xb + xc) / 3\n",
    "\n",
    "avg_var = (va + vb + vc) / 3\n",
    "var_bet = ((xa - mean_of_mean)**2 + (xb - mean_of_mean)**2 + (xc - mean_of_mean)**2) / 2 * 50\n",
    "\n",
    "F_stat = var_bet / avg_var\n",
    "print('F-statistic(2, 147):', F_stat, '> 2.3 (alpha=10%)')"
   ]
  },
  {
   "cell_type": "markdown",
   "metadata": {},
   "source": [
    "$Reject~H_0 \\rightarrow The~means~of~three~groups~are~not~the~same$  "
   ]
  },
  {
   "cell_type": "code",
   "execution_count": null,
   "metadata": {},
   "outputs": [],
   "source": []
  }
 ],
 "metadata": {
  "kernelspec": {
   "display_name": "Python 3",
   "language": "python",
   "name": "python3"
  },
  "language_info": {
   "codemirror_mode": {
    "name": "ipython",
    "version": 3
   },
   "file_extension": ".py",
   "mimetype": "text/x-python",
   "name": "python",
   "nbconvert_exporter": "python",
   "pygments_lexer": "ipython3",
   "version": "3.7.3"
  }
 },
 "nbformat": 4,
 "nbformat_minor": 2
}
